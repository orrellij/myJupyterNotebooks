{
 "cells": [
  {
   "cell_type": "code",
   "execution_count": 1,
   "id": "5f5db96f",
   "metadata": {},
   "outputs": [],
   "source": [
    "import numpy as np"
   ]
  },
  {
   "cell_type": "code",
   "execution_count": 2,
   "id": "07fdce2d",
   "metadata": {},
   "outputs": [],
   "source": [
    "a = np.array([1, -2, 16, 40, 0])\n",
    "b = np.array([3.16, 25, -3, -6.5, 108])"
   ]
  },
  {
   "cell_type": "code",
   "execution_count": 5,
   "id": "3e2d3714",
   "metadata": {},
   "outputs": [],
   "source": [
    "c = (a - b)"
   ]
  },
  {
   "cell_type": "code",
   "execution_count": 6,
   "id": "f34d8fbb",
   "metadata": {},
   "outputs": [
    {
     "data": {
      "text/plain": [
       "array([  -2.16,  -27.  ,   19.  ,   46.5 , -108.  ])"
      ]
     },
     "execution_count": 6,
     "metadata": {},
     "output_type": "execute_result"
    }
   ],
   "source": [
    "c"
   ]
  },
  {
   "cell_type": "code",
   "execution_count": 7,
   "id": "165f598a",
   "metadata": {},
   "outputs": [],
   "source": [
    "from numpy.linalg import norm"
   ]
  },
  {
   "cell_type": "code",
   "execution_count": 12,
   "id": "3309b589",
   "metadata": {},
   "outputs": [
    {
     "name": "stdout",
     "output_type": "stream",
     "text": [
      "The length of vector c is 122.1511997485084\n"
     ]
    }
   ],
   "source": [
    "print('The length of vector c is', norm(c, ord=2))"
   ]
  },
  {
   "cell_type": "code",
   "execution_count": null,
   "id": "6598bb30",
   "metadata": {},
   "outputs": [],
   "source": []
  }
 ],
 "metadata": {
  "kernelspec": {
   "display_name": "Python 3 (ipykernel)",
   "language": "python",
   "name": "python3"
  },
  "language_info": {
   "codemirror_mode": {
    "name": "ipython",
    "version": 3
   },
   "file_extension": ".py",
   "mimetype": "text/x-python",
   "name": "python",
   "nbconvert_exporter": "python",
   "pygments_lexer": "ipython3",
   "version": "3.9.13"
  }
 },
 "nbformat": 4,
 "nbformat_minor": 5
}
