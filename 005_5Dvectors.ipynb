{
 "cells": [
  {
   "cell_type": "code",
   "execution_count": 1,
   "id": "c504b930",
   "metadata": {},
   "outputs": [],
   "source": [
    "import numpy as np"
   ]
  },
  {
   "cell_type": "code",
   "execution_count": 2,
   "id": "bc65e3db",
   "metadata": {},
   "outputs": [],
   "source": [
    "a = np.array([1, -2, 16, 40, 0])\n",
    "b = np.array([3.16, 25, -3, -6.5, 108])"
   ]
  },
  {
   "cell_type": "code",
   "execution_count": 5,
   "id": "c5047e17",
   "metadata": {},
   "outputs": [],
   "source": [
    "c = (a - b)"
   ]
  },
  {
   "cell_type": "code",
   "execution_count": 6,
   "id": "39fdc09a",
   "metadata": {},
   "outputs": [
    {
     "data": {
      "text/plain": [
       "array([  -2.16,  -27.  ,   19.  ,   46.5 , -108.  ])"
      ]
     },
     "execution_count": 6,
     "metadata": {},
     "output_type": "execute_result"
    }
   ],
   "source": [
    "c"
   ]
  },
  {
   "cell_type": "code",
   "execution_count": 7,
   "id": "5d71153f",
   "metadata": {},
   "outputs": [],
   "source": [
    "from numpy.linalg import norm"
   ]
  },
  {
   "cell_type": "code",
   "execution_count": 12,
   "id": "29326e19",
   "metadata": {},
   "outputs": [
    {
     "name": "stdout",
     "output_type": "stream",
     "text": [
      "The length of vector c is 122.1511997485084\n"
     ]
    }
   ],
   "source": [
    "print('The length of vector c is', norm(c, ord=2))"
   ]
  },
  {
   "cell_type": "code",
   "execution_count": 13,
   "id": "5a8943f3",
   "metadata": {},
   "outputs": [
    {
     "name": "stdout",
     "output_type": "stream",
     "text": [
      "The norm of vector a is 43.139309220245984\n"
     ]
    }
   ],
   "source": [
    "print('The norm of vector a is', norm(a, ord=2))"
   ]
  },
  {
   "cell_type": "code",
   "execution_count": 14,
   "id": "6c298f4a",
   "metadata": {},
   "outputs": [
    {
     "name": "stdout",
     "output_type": "stream",
     "text": [
      "The norm of vector b is 111.13161386392262\n"
     ]
    }
   ],
   "source": [
    "print('The norm of vector b is', norm(b, ord=2))"
   ]
  },
  {
   "cell_type": "code",
   "execution_count": 15,
   "id": "aca49b7e",
   "metadata": {},
   "outputs": [
    {
     "data": {
      "text/plain": [
       "array([[122.15119975]])"
      ]
     },
     "execution_count": 15,
     "metadata": {},
     "output_type": "execute_result"
    }
   ],
   "source": [
    "from scipy.spatial.distance import cdist\n",
    "cdist(a[np.newaxis, :], b[np.newaxis, :])"
   ]
  },
  {
   "cell_type": "code",
   "execution_count": null,
   "id": "52c6e4de",
   "metadata": {},
   "outputs": [],
   "source": []
  }
 ],
 "metadata": {
  "kernelspec": {
   "display_name": "Python 3 (ipykernel)",
   "language": "python",
   "name": "python3"
  },
  "language_info": {
   "codemirror_mode": {
    "name": "ipython",
    "version": 3
   },
   "file_extension": ".py",
   "mimetype": "text/x-python",
   "name": "python",
   "nbconvert_exporter": "python",
   "pygments_lexer": "ipython3",
   "version": "3.9.13"
  }
 },
 "nbformat": 4,
 "nbformat_minor": 5
}
