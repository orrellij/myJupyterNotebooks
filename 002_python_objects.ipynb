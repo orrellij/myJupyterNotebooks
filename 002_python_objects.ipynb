{
 "cells": [
  {
   "cell_type": "markdown",
   "id": "f61de056",
   "metadata": {},
   "source": [
    "# Classes and Objects in Python"
   ]
  },
  {
   "cell_type": "markdown",
   "id": "e1adcce5",
   "metadata": {},
   "source": [
    "In Python, everything is an object"
   ]
  },
  {
   "cell_type": "markdown",
   "id": "c7596951",
   "metadata": {},
   "source": [
    "#### Types"
   ]
  },
  {
   "cell_type": "markdown",
   "id": "7dcd65c7",
   "metadata": {},
   "source": [
    "- int\n",
    "- float\n",
    "- String\n",
    "- List\n",
    "- Dictionary\n",
    "- Bool"
   ]
  },
  {
   "cell_type": "code",
   "execution_count": 4,
   "id": "603d884c",
   "metadata": {},
   "outputs": [
    {
     "name": "stdout",
     "output_type": "stream",
     "text": [
      "<class 'int'>\n"
     ]
    }
   ],
   "source": [
    "a = 5\n",
    "print(type(a))"
   ]
  },
  {
   "cell_type": "code",
   "execution_count": 8,
   "id": "6be83ebb",
   "metadata": {},
   "outputs": [],
   "source": [
    "a_list = [2,5,2,8,12,6,2]"
   ]
  },
  {
   "cell_type": "code",
   "execution_count": 9,
   "id": "b433297d",
   "metadata": {},
   "outputs": [
    {
     "name": "stdout",
     "output_type": "stream",
     "text": [
      "[2, 2, 2, 5, 6, 8, 12]\n"
     ]
    }
   ],
   "source": [
    "a_list.sort()\n",
    "print(a_list)"
   ]
  },
  {
   "cell_type": "markdown",
   "id": "bc755acd",
   "metadata": {},
   "source": [
    "## Create your own class"
   ]
  },
  {
   "cell_type": "code",
   "execution_count": 10,
   "id": "5a56ddd0",
   "metadata": {},
   "outputs": [],
   "source": [
    "class My_first_class:\n",
    "    i = 5\n",
    "    def f(x):\n",
    "        return x**2"
   ]
  },
  {
   "cell_type": "code",
   "execution_count": 6,
   "id": "d8553f5d",
   "metadata": {},
   "outputs": [],
   "source": [
    "my_object = My_first_class"
   ]
  },
  {
   "cell_type": "code",
   "execution_count": 11,
   "id": "31351d1b",
   "metadata": {},
   "outputs": [
    {
     "data": {
      "text/plain": [
       "5"
      ]
     },
     "execution_count": 11,
     "metadata": {},
     "output_type": "execute_result"
    }
   ],
   "source": [
    "my_object.i"
   ]
  },
  {
   "cell_type": "code",
   "execution_count": 21,
   "id": "60630f9d",
   "metadata": {},
   "outputs": [
    {
     "data": {
      "text/plain": [
       "9"
      ]
     },
     "execution_count": 21,
     "metadata": {},
     "output_type": "execute_result"
    }
   ],
   "source": [
    "my_object.f(3)"
   ]
  },
  {
   "cell_type": "code",
   "execution_count": 22,
   "id": "787cde4e",
   "metadata": {},
   "outputs": [],
   "source": [
    "class My_first_class:\n",
    "    i = 5\n",
    "    def f(x):\n",
    "        return x**2\n",
    "    def __init__(self, ivalue):\n",
    "        self.i = ivalue"
   ]
  },
  {
   "cell_type": "code",
   "execution_count": 23,
   "id": "3a8390ee",
   "metadata": {},
   "outputs": [],
   "source": [
    "x = My_first_class(800)"
   ]
  },
  {
   "cell_type": "code",
   "execution_count": 24,
   "id": "cc936dcc",
   "metadata": {},
   "outputs": [
    {
     "data": {
      "text/plain": [
       "800"
      ]
     },
     "execution_count": 24,
     "metadata": {},
     "output_type": "execute_result"
    }
   ],
   "source": [
    "x.i"
   ]
  },
  {
   "cell_type": "code",
   "execution_count": null,
   "id": "141b20f2",
   "metadata": {},
   "outputs": [],
   "source": []
  }
 ],
 "metadata": {
  "kernelspec": {
   "display_name": "Python 3 (ipykernel)",
   "language": "python",
   "name": "python3"
  },
  "language_info": {
   "codemirror_mode": {
    "name": "ipython",
    "version": 3
   },
   "file_extension": ".py",
   "mimetype": "text/x-python",
   "name": "python",
   "nbconvert_exporter": "python",
   "pygments_lexer": "ipython3",
   "version": "3.9.13"
  }
 },
 "nbformat": 4,
 "nbformat_minor": 5
}
