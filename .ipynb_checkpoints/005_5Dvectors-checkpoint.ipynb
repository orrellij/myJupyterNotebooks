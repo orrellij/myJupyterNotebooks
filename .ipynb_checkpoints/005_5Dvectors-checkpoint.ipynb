{
 "cells": [
  {
   "cell_type": "code",
   "execution_count": 1,
   "id": "3f4570e5",
   "metadata": {},
   "outputs": [],
   "source": [
    "import numpy as np"
   ]
  },
  {
   "cell_type": "code",
   "execution_count": 2,
   "id": "e4657d43",
   "metadata": {},
   "outputs": [],
   "source": [
    "a = np.array([1, -2, 16, 40, 0])\n",
    "b = np.array([3.16, 25, -3, -6.5, 108])"
   ]
  },
  {
   "cell_type": "code",
   "execution_count": 5,
   "id": "95122b6c",
   "metadata": {},
   "outputs": [],
   "source": [
    "c = (a - b)"
   ]
  },
  {
   "cell_type": "code",
   "execution_count": 6,
   "id": "1156f9e9",
   "metadata": {},
   "outputs": [
    {
     "data": {
      "text/plain": [
       "array([  -2.16,  -27.  ,   19.  ,   46.5 , -108.  ])"
      ]
     },
     "execution_count": 6,
     "metadata": {},
     "output_type": "execute_result"
    }
   ],
   "source": [
    "c"
   ]
  },
  {
   "cell_type": "code",
   "execution_count": 7,
   "id": "671bea0c",
   "metadata": {},
   "outputs": [],
   "source": [
    "from numpy.linalg import norm"
   ]
  },
  {
   "cell_type": "code",
   "execution_count": 12,
   "id": "70b5aac7",
   "metadata": {},
   "outputs": [
    {
     "name": "stdout",
     "output_type": "stream",
     "text": [
      "The length of vector c is 122.1511997485084\n"
     ]
    }
   ],
   "source": [
    "print('The length of vector c is', norm(c, ord=2))"
   ]
  },
  {
   "cell_type": "code",
   "execution_count": 13,
   "id": "0d1a932d",
   "metadata": {},
   "outputs": [
    {
     "name": "stdout",
     "output_type": "stream",
     "text": [
      "The norm of vector a is 43.139309220245984\n"
     ]
    }
   ],
   "source": [
    "print('The norm of vector a is', norm(a, ord=2))"
   ]
  },
  {
   "cell_type": "code",
   "execution_count": 14,
   "id": "7beecedb",
   "metadata": {},
   "outputs": [
    {
     "name": "stdout",
     "output_type": "stream",
     "text": [
      "The norm of vector b is 111.13161386392262\n"
     ]
    }
   ],
   "source": [
    "print('The norm of vector b is', norm(b, ord=2))"
   ]
  },
  {
   "cell_type": "code",
   "execution_count": 15,
   "id": "1947c581",
   "metadata": {},
   "outputs": [
    {
     "data": {
      "text/plain": [
       "array([[122.15119975]])"
      ]
     },
     "execution_count": 15,
     "metadata": {},
     "output_type": "execute_result"
    }
   ],
   "source": [
    "from scipy.spatial.distance import cdist\n",
    "cdist(a[np.newaxis, :], b[np.newaxis, :])"
   ]
  },
  {
   "cell_type": "code",
   "execution_count": 16,
   "id": "37d0ee0f",
   "metadata": {},
   "outputs": [
    {
     "name": "stdout",
     "output_type": "stream",
     "text": [
      "-354.84000000000003\n",
      "-354.84000000000003\n"
     ]
    }
   ],
   "source": [
    "print(np.dot(a, b))\n",
    "print(a.dot(b))"
   ]
  },
  {
   "cell_type": "code",
   "execution_count": 17,
   "id": "1562f2c9",
   "metadata": {},
   "outputs": [
    {
     "name": "stdout",
     "output_type": "stream",
     "text": [
      "-0.07401534413719321\n"
     ]
    }
   ],
   "source": [
    "cos_angle = np.dot(a, b) / norm(a) / norm(b)\n",
    "print(cos_angle)"
   ]
  },
  {
   "cell_type": "code",
   "execution_count": 18,
   "id": "4b7211ae",
   "metadata": {},
   "outputs": [
    {
     "name": "stdout",
     "output_type": "stream",
     "text": [
      "The angle between A and B is 1.6448794174297847 radians\n"
     ]
    }
   ],
   "source": [
    "print('The angle between A and B is', np.arccos(cos_angle), 'radians')"
   ]
  },
  {
   "cell_type": "code",
   "execution_count": 19,
   "id": "56f02f22",
   "metadata": {},
   "outputs": [
    {
     "name": "stdout",
     "output_type": "stream",
     "text": [
      "The angle between A and B is 94.24464842666424 degrees\n"
     ]
    }
   ],
   "source": [
    "print('The angle between A and B is', np.degrees(np.arccos(cos_angle)), 'degrees')"
   ]
  },
  {
   "cell_type": "code",
   "execution_count": null,
   "id": "475d5243",
   "metadata": {},
   "outputs": [],
   "source": []
  }
 ],
 "metadata": {
  "kernelspec": {
   "display_name": "Python 3 (ipykernel)",
   "language": "python",
   "name": "python3"
  },
  "language_info": {
   "codemirror_mode": {
    "name": "ipython",
    "version": 3
   },
   "file_extension": ".py",
   "mimetype": "text/x-python",
   "name": "python",
   "nbconvert_exporter": "python",
   "pygments_lexer": "ipython3",
   "version": "3.9.13"
  }
 },
 "nbformat": 4,
 "nbformat_minor": 5
}
