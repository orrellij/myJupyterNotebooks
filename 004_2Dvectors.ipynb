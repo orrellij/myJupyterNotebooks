{
 "cells": [
  {
   "cell_type": "code",
   "execution_count": 1,
   "id": "954b1a01",
   "metadata": {},
   "outputs": [],
   "source": [
    "import numpy as np"
   ]
  },
  {
   "cell_type": "code",
   "execution_count": 2,
   "id": "7d0d76d0",
   "metadata": {},
   "outputs": [],
   "source": [
    "a = np.array([4, -2])\n",
    "b = np.array([-3, 5])"
   ]
  },
  {
   "cell_type": "code",
   "execution_count": 6,
   "id": "23fb2f64",
   "metadata": {},
   "outputs": [],
   "source": [
    "c = np.array(a - b)"
   ]
  },
  {
   "cell_type": "code",
   "execution_count": 7,
   "id": "8b7a5df0",
   "metadata": {},
   "outputs": [
    {
     "data": {
      "text/plain": [
       "array([ 7, -7])"
      ]
     },
     "execution_count": 7,
     "metadata": {},
     "output_type": "execute_result"
    }
   ],
   "source": [
    "c"
   ]
  },
  {
   "cell_type": "code",
   "execution_count": 10,
   "id": "3182435f",
   "metadata": {},
   "outputs": [],
   "source": [
    "from numpy.linalg import norm"
   ]
  },
  {
   "cell_type": "code",
   "execution_count": 11,
   "id": "4f9f9e5e",
   "metadata": {},
   "outputs": [
    {
     "data": {
      "text/plain": [
       "9.899494936611665"
      ]
     },
     "execution_count": 11,
     "metadata": {},
     "output_type": "execute_result"
    }
   ],
   "source": [
    "norm(c, ord=2)"
   ]
  },
  {
   "cell_type": "code",
   "execution_count": 12,
   "id": "a1531c38",
   "metadata": {},
   "outputs": [
    {
     "data": {
      "text/plain": [
       "4.47213595499958"
      ]
     },
     "execution_count": 12,
     "metadata": {},
     "output_type": "execute_result"
    }
   ],
   "source": [
    "norm(a, ord=2)"
   ]
  },
  {
   "cell_type": "code",
   "execution_count": 13,
   "id": "7756f90e",
   "metadata": {},
   "outputs": [
    {
     "data": {
      "text/plain": [
       "5.830951894845301"
      ]
     },
     "execution_count": 13,
     "metadata": {},
     "output_type": "execute_result"
    }
   ],
   "source": [
    "norm(b, ord=2)"
   ]
  },
  {
   "cell_type": "code",
   "execution_count": 14,
   "id": "9cb899ee",
   "metadata": {},
   "outputs": [
    {
     "data": {
      "text/plain": [
       "9.899494936611665"
      ]
     },
     "execution_count": 14,
     "metadata": {},
     "output_type": "execute_result"
    }
   ],
   "source": [
    "norm(a - b, ord=2)"
   ]
  },
  {
   "cell_type": "code",
   "execution_count": 19,
   "id": "141161c0",
   "metadata": {},
   "outputs": [
    {
     "data": {
      "text/plain": [
       "array([[9.89949494]])"
      ]
     },
     "execution_count": 19,
     "metadata": {},
     "output_type": "execute_result"
    }
   ],
   "source": [
    "from scipy.spatial.distance import cdist\n",
    "cdist(a[np.newaxis, :], b[np.newaxis, :])"
   ]
  },
  {
   "cell_type": "code",
   "execution_count": 26,
   "id": "232d1d30",
   "metadata": {},
   "outputs": [
    {
     "name": "stdout",
     "output_type": "stream",
     "text": [
      "-22\n",
      "-22\n"
     ]
    }
   ],
   "source": [
    "print(np.dot(a, b))\n",
    "print(a.dot(b))"
   ]
  },
  {
   "cell_type": "code",
   "execution_count": 32,
   "id": "d46062cb",
   "metadata": {},
   "outputs": [
    {
     "name": "stdout",
     "output_type": "stream",
     "text": [
      "-0.8436614877321074\n"
     ]
    }
   ],
   "source": [
    "cos_angle = np.dot(a, b) / norm(a) / norm(b)\n",
    "print(cos_angle)"
   ]
  },
  {
   "cell_type": "code",
   "execution_count": 48,
   "id": "7307cabc",
   "metadata": {},
   "outputs": [
    {
     "name": "stdout",
     "output_type": "stream",
     "text": [
      "The angle between A and B is 2.5748634360662868 radians\n"
     ]
    }
   ],
   "source": [
    "print('The angle between A and B is', np.arccos(cos_angle), 'radians')"
   ]
  },
  {
   "cell_type": "code",
   "execution_count": 49,
   "id": "086ffbd0",
   "metadata": {},
   "outputs": [
    {
     "name": "stdout",
     "output_type": "stream",
     "text": [
      "The angle between A and B is 147.52880770915152 degrees\n"
     ]
    }
   ],
   "source": [
    "print('The angle between A and B is', np.degrees(np.arccos(cos_angle)), 'degrees')"
   ]
  },
  {
   "cell_type": "code",
   "execution_count": null,
   "id": "9f7e7da9",
   "metadata": {},
   "outputs": [],
   "source": []
  }
 ],
 "metadata": {
  "kernelspec": {
   "display_name": "Python 3 (ipykernel)",
   "language": "python",
   "name": "python3"
  },
  "language_info": {
   "codemirror_mode": {
    "name": "ipython",
    "version": 3
   },
   "file_extension": ".py",
   "mimetype": "text/x-python",
   "name": "python",
   "nbconvert_exporter": "python",
   "pygments_lexer": "ipython3",
   "version": "3.9.13"
  }
 },
 "nbformat": 4,
 "nbformat_minor": 5
}
